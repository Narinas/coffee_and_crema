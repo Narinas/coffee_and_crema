{
 "cells": [
  {
   "cell_type": "code",
   "execution_count": 3,
   "metadata": {
    "id": "e2DfXSErqglt"
   },
   "outputs": [],
   "source": [
    "SAVE_PATH = 'content'"
   ]
  },
  {
   "cell_type": "markdown",
   "metadata": {},
   "source": [
    "Dont forget to run `conda install ffmpeg` in the terminal after importing everything"
   ]
  },
  {
   "cell_type": "code",
   "execution_count": 4,
   "metadata": {
    "id": "Kx70kgS8UpuA"
   },
   "outputs": [],
   "source": [
    "# necessary imports\n",
    "\n",
    "import os\n",
    "import re\n",
    "import time\n",
    "import glob\n",
    "import torch\n",
    "import musdb\n",
    "import random\n",
    "import librosa\n",
    "import stempeg\n",
    "import requests\n",
    "import warnings\n",
    "import torchaudio\n",
    "import torchvision\n",
    "import numpy as np\n",
    "import torch.nn as nn\n",
    "import torch.utils.data\n",
    "import torch.nn.functional as F\n",
    "import matplotlib.pyplot as plt\n",
    "\n",
    "from zipfile import ZipFile\n",
    "from torchsummary import summary\n",
    "from urllib.request import urlopen\n",
    "from openunmix.model import OpenUnmix\n",
    "from torcheval.metrics import R2Score\n",
    "from torch.utils.data import DataLoader\n",
    "from tqdm import tqdm\n",
    "from torchaudio.transforms import Resample, MelSpectrogram\n",
    "\n",
    "warnings.simplefilter(action='ignore', category=FutureWarning)"
   ]
  },
  {
   "cell_type": "code",
   "execution_count": 5,
   "metadata": {
    "id": "fQSRLHFcVcLX"
   },
   "outputs": [],
   "source": [
    "# set random seed\n",
    "\n",
    "def set_seed(seed=None, seed_torch=True):\n",
    "  \"\"\"\n",
    "  Function that controls randomness\n",
    "\n",
    "  Returns:\n",
    "    Nothing.\n",
    "  \"\"\"\n",
    "  if seed is None:\n",
    "    seed = np.random.choice(2 ** 32)\n",
    "  random.seed(seed)\n",
    "  np.random.seed(seed)\n",
    "  if seed_torch:\n",
    "    torch.manual_seed(seed)\n",
    "    torch.cuda.manual_seed_all(seed)\n",
    "    torch.cuda.manual_seed(seed)\n",
    "    torch.backends.cudnn.benchmark = False\n",
    "    torch.backends.cudnn.deterministic = True\n",
    "\n",
    "  print(f'Random seed {seed} has been set.')\n",
    "\n",
    "\n",
    "# In case that `DataLoader` is used\n",
    "def seed_worker(worker_id):\n",
    "  \"\"\"\n",
    "  DataLoader will reseed workers following randomness in\n",
    "  multi-process data loading algorithm.\n",
    "\n",
    "  Returns:\n",
    "    Nothing\n",
    "  \"\"\"\n",
    "  worker_seed = torch.initial_seed() % 2**32\n",
    "  np.random.seed(worker_seed)\n",
    "  random.seed(worker_seed)"
   ]
  },
  {
   "cell_type": "code",
   "execution_count": 6,
   "metadata": {
    "id": "9HgvhhzTWLEP"
   },
   "outputs": [],
   "source": [
    "# setting the GPU\n",
    "\n",
    "def set_device():\n",
    "  \"\"\"\n",
    "  Set the device. CUDA if available, CPU otherwise\n",
    "\n",
    "  \"\"\"\n",
    "  device = \"cuda\" if torch.cuda.is_available() else \"cpu\"\n",
    "  if device != \"cuda\":\n",
    "    print(\"WARNING: For this notebook to perform best, \"\n",
    "        \"if possible, in the menu under `Runtime` -> \"\n",
    "        \"`Change runtime type.`  select `GPU` \")\n",
    "  else:\n",
    "    print(\"GPU is enabled in this notebook.\")\n",
    "\n",
    "  return device"
   ]
  },
  {
   "cell_type": "code",
   "execution_count": 7,
   "metadata": {
    "id": "0OOMgbglWaln"
   },
   "outputs": [
    {
     "name": "stdout",
     "output_type": "stream",
     "text": [
      "Random seed 2024 has been set.\n",
      "GPU is enabled in this notebook.\n"
     ]
    }
   ],
   "source": [
    "# set the seed to 2024\n",
    "SEED = 2024\n",
    "set_seed(seed=SEED)\n",
    "DEVICE = set_device()"
   ]
  },
  {
   "cell_type": "code",
   "execution_count": null,
   "metadata": {
    "id": "jd3IxY7UWmnO"
   },
   "outputs": [],
   "source": [
    "# Load the MUSDB dataset\n",
    "\n",
    "mus_train = musdb.DB(download=True, subsets='train')\n",
    "mus_test = musdb.DB(download=True, subsets='test')"
   ]
  },
  {
   "cell_type": "code",
   "execution_count": null,
   "metadata": {
    "id": "s4lT_mcIXJF3"
   },
   "outputs": [],
   "source": [
    "# let's process over a single track\n",
    "\n",
    "track = mus_train[42]\n",
    "print(track.name)\n",
    "print(track.targets.keys())"
   ]
  },
  {
   "cell_type": "code",
   "execution_count": null,
   "metadata": {
    "id": "nnd9-_WEXUWG"
   },
   "outputs": [],
   "source": [
    "# convert the track to mono and display it using a spectrogram\n",
    "\n",
    "STFT_WINDOW = 2048\n",
    "STFT_STRIDE = 1024\n",
    "\n",
    "sample = track.audio.T\n",
    "sr = track.rate\n",
    "\n",
    "# converting it to a spectrogram using short time fourier transform\n",
    "X = librosa.stft(librosa.to_mono(sample),\n",
    "                 n_fft=STFT_WINDOW,\n",
    "                 win_length=STFT_WINDOW,\n",
    "                 hop_length=STFT_STRIDE)\n",
    "\n",
    "# displaying the spectrogram\n",
    "librosa.display.specshow(librosa.amplitude_to_db(np.abs(X), ref=np.max),\n",
    "                         y_axis='log', x_axis='time')"
   ]
  },
  {
   "cell_type": "code",
   "execution_count": 11,
   "metadata": {
    "id": "yWW6VKxLYSZV"
   },
   "outputs": [],
   "source": [
    "# generating the training and test split using the\n",
    "# dataloader class from pytorch\n",
    "\n",
    "# create the spectrogram preprocessing part\n",
    "class SpecTransform(nn.Module):\n",
    "    \"\"\"\n",
    "    This module creates a spectrogram of each input audio\n",
    "    \"\"\"\n",
    "\n",
    "    def __init__(self, sr=16000, n_fft=2048):\n",
    "        super().__init__()\n",
    "        self.n_fft=n_fft\n",
    "        self.sr=sr\n",
    "        self.mel = MelSpectrogram(sample_rate=self.sr,\n",
    "                                  n_fft=self.n_fft, n_mels=512)\n",
    "\n",
    "    def forward(self, x):\n",
    "        with torch.no_grad():\n",
    "            return(self.mel(x))\n",
    "\n",
    "\n",
    "# create the MUSDB18 torch dataset class\n",
    "class MUSDBDataset(torch.utils.data.Dataset):\n",
    "    def __init__(\n",
    "            self,\n",
    "            subset='train',\n",
    "            split='train',\n",
    "            target='vocals',\n",
    "            seq_duration=None,\n",
    "            n_fft=2048,\n",
    "            sr=44100\n",
    "    ):\n",
    "        \"\"\"\n",
    "        MUSDB18 Dataset wrapper.\n",
    "        args:\n",
    "        subset: either 'test' or 'train'\n",
    "        split: either 'test' or 'train'\n",
    "        seq_duration: duration in seconds: float\n",
    "        \"\"\"\n",
    "\n",
    "        self.seq_duration = seq_duration\n",
    "        self.mus = musdb.DB(\n",
    "            download=True,\n",
    "            split=split,\n",
    "            subsets=subset,\n",
    "        )\n",
    "        self.target=target\n",
    "        self.sr=sr\n",
    "        self.spec=SpecTransform(n_fft=n_fft)\n",
    "        self.resample=Resample(new_freq=self.sr)\n",
    "\n",
    "    def __getitem__(self, index):\n",
    "        track = self.mus[index]\n",
    "        track.chunk_start = max(0, random.uniform(0, track.duration - self.seq_duration)) # Prevents rounding errors\n",
    "        track.chunk_duration = self.seq_duration\n",
    "        x = track.audio.T\n",
    "        y = track.targets[self.target].audio.T\n",
    "        self.resample.orig_freq = track.rate\n",
    "        signal_x, signal_y = torch.tensor(x, dtype=torch.float32), torch.tensor(y, dtype=torch.float32)\n",
    "        resampled_x = self.resample(signal_x)\n",
    "        resampled_y = self.resample(signal_y)\n",
    "        return self.spec(resampled_x), self.spec(resampled_y)\n",
    "\n",
    "    def __len__(self):\n",
    "        return len(self.mus)\n"
   ]
  },
  {
   "cell_type": "code",
   "execution_count": null,
   "metadata": {
    "id": "Z0ZrU6_FbTUz"
   },
   "outputs": [],
   "source": [
    "# the above code snippet prepares audio data for training\n",
    "# from MUSDB tracks, resamples them, and computes their spectrograms\n",
    "# , these processed data pairs are used during training to train a\n",
    "# neural network model for vocal separation\n",
    "\n",
    "# now let's create the dataset for training and testing\n",
    "\n",
    "BATCH_SIZE = 8\n",
    "mus_train  = MUSDBDataset(seq_duration=7.0)\n",
    "mus_test   = MUSDBDataset(subset='train', split='test',\n",
    "                          seq_duration = 7.0)"
   ]
  },
  {
   "cell_type": "code",
   "execution_count": null,
   "metadata": {
    "id": "ltD9_raxciEp"
   },
   "outputs": [],
   "source": [
    "# R2 is a statistical measure that assesses how well a regression model\n",
    "# fits the observed data.\n",
    "#   - R2 ranges from 0 to 1 (though it can be negative too)\n",
    "#   - A value of 1, model perfectly predicts the outcome.\n",
    "#   - A value of 0, model is as useful as a broken compass.\n",
    "\n",
    "# building the pytorch model\n",
    "\n",
    "# 1. Open Unmix - for audio separation\n",
    "\n",
    "def test_r2(model, device, data_loader):\n",
    "  \"\"\"\n",
    "  Test function\n",
    "\n",
    "  Args:\n",
    "    model: nn.module\n",
    "      Neural network instance\n",
    "    device: string\n",
    "      GPU/CUDA if available, CPU otherwise\n",
    "    data_loader: torch.loader\n",
    "      Test Set\n",
    "\n",
    "  Returns:\n",
    "    acc: float\n",
    "      Test accuracy\n",
    "  \"\"\"\n",
    "  model.eval()\n",
    "  metric = R2Score(device=device)\n",
    "  for inputs, labels in data_loader:\n",
    "    inputs = inputs.to(device)\n",
    "    labels = labels.to(device)\n",
    "    outputs = model(inputs)\n",
    "    metric.update(outputs.flatten(), labels.flatten())\n",
    "  r2 = metric.compute()\n",
    "  return r2\n",
    "\n",
    "def umx_train_loop(model,\n",
    "                   device,\n",
    "                   checkpoint_path,\n",
    "                   train_dataset,\n",
    "                   epochs=10,\n",
    "                   batch_size=8,\n",
    "                   seed=0):\n",
    "  \"\"\"\n",
    "  Training function\n",
    "\n",
    "  Args:\n",
    "    model: nn.module\n",
    "    device: string\n",
    "    checkpoint_path: string\n",
    "    train_dataset: torch.loader\n",
    "    epochs: int\n",
    "    batch_size: int\n",
    "    seed: int\n",
    "\n",
    "  Returns:\n",
    "    array of loss and accuracy\n",
    "    Uses RMSE and Adam\n",
    "  \"\"\"\n",
    "  model.to(device)\n",
    "  model.train()\n",
    "  train_loader = DataLoader(train_dataset,\n",
    "                            batch_size=batch_size, shuffle=True)\n",
    "\n",
    "  loss_fn = nn.MSELoss()\n",
    "  optimizer = torch.optim.RMSprop(model.parameters(),\n",
    "                                  lr=0.01, weight_decay=0.02)\n",
    "  mse_loss = torch.zeros(epochs * len(train_dataset) // batch_size,\n",
    "                         device=device)\n",
    "  i = 0\n",
    "  for epoch in range(epochs):\n",
    "    with tqdm(train_loader, unit='batch') as tepoch:\n",
    "      for data, target in tepoch:\n",
    "        data, target = data.to(device), target.to(device)\n",
    "        optimizer.zero_grad()\n",
    "        output = model(data)\n",
    "        loss = loss_fn(\n",
    "                        output,\n",
    "                        target=target)\n",
    "        loss.backward()\n",
    "        optimizer.step()\n",
    "        tepoch.set_postfix(loss=loss.item())\n",
    "        time.sleep(0.1)\n",
    "        mse_loss[i] = loss.detach()\n",
    "  return mse_loss"
   ]
  },
  {
   "cell_type": "code",
   "execution_count": 21,
   "metadata": {
    "id": "5PSaDkw1eBng"
   },
   "outputs": [],
   "source": [
    "# let's load the model without pretrained weights and train it\n",
    "umx = OpenUnmix(nb_bins=512) # model initialization\n",
    "\n",
    "if os.path.exists(f'{SAVE_PATH}/umx_weights'):\n",
    "    umx = torch.load(f'{SAVE_PATH}/umx_weights')\n",
    "\n",
    "# training loop\n",
    "# for _ in range(2):\n",
    "#     umx_losses = umx_train_loop(umx, device=DEVICE,\n",
    "#                               checkpoint_path=SAVE_PATH,\n",
    "#                               train_dataset=mus_train, epochs=8)\n",
    "#     r2 = test_r2(umx, DEVICE, DataLoader(mus_test, batch_size=BATCH_SIZE))\n",
    "#     print(f'R2: {r2}')\n",
    "#     torch.save(umx, f'{SAVE_PATH}/umx_weights')"
   ]
  },
  {
   "cell_type": "code",
   "execution_count": 22,
   "metadata": {
    "id": "KFbBYIckiVed"
   },
   "outputs": [
    {
     "name": "stdout",
     "output_type": "stream",
     "text": [
      "==========================================================================================\n",
      "Layer (type:depth-idx)                   Output Shape              Param #\n",
      "==========================================================================================\n",
      "├─Linear: 1-1                            [-1, 512]                 524,288\n",
      "├─BatchNorm1d: 1-2                       [-1, 512]                 1,024\n",
      "├─LSTM: 1-3                              [-1, 2, 512]              4,730,880\n",
      "├─Linear: 1-4                            [-1, 512]                 524,288\n",
      "├─BatchNorm1d: 1-5                       [-1, 512]                 1,024\n",
      "├─Linear: 1-6                            [-1, 1024]                524,288\n",
      "├─BatchNorm1d: 1-7                       [-1, 1024]                2,048\n",
      "==========================================================================================\n",
      "Total params: 6,307,840\n",
      "Trainable params: 6,307,840\n",
      "Non-trainable params: 0\n",
      "Total mult-adds (M): 6.29\n",
      "==========================================================================================\n",
      "Input size (MB): 1.15\n",
      "Forward/backward pass size (MB): 0.04\n",
      "Params size (MB): 24.06\n",
      "Estimated Total Size (MB): 25.25\n",
      "==========================================================================================\n"
     ]
    },
    {
     "data": {
      "text/plain": [
       "==========================================================================================\n",
       "Layer (type:depth-idx)                   Output Shape              Param #\n",
       "==========================================================================================\n",
       "├─Linear: 1-1                            [-1, 512]                 524,288\n",
       "├─BatchNorm1d: 1-2                       [-1, 512]                 1,024\n",
       "├─LSTM: 1-3                              [-1, 2, 512]              4,730,880\n",
       "├─Linear: 1-4                            [-1, 512]                 524,288\n",
       "├─BatchNorm1d: 1-5                       [-1, 512]                 1,024\n",
       "├─Linear: 1-6                            [-1, 1024]                524,288\n",
       "├─BatchNorm1d: 1-7                       [-1, 1024]                2,048\n",
       "==========================================================================================\n",
       "Total params: 6,307,840\n",
       "Trainable params: 6,307,840\n",
       "Non-trainable params: 0\n",
       "Total mult-adds (M): 6.29\n",
       "==========================================================================================\n",
       "Input size (MB): 1.15\n",
       "Forward/backward pass size (MB): 0.04\n",
       "Params size (MB): 24.06\n",
       "Estimated Total Size (MB): 25.25\n",
       "=========================================================================================="
      ]
     },
     "execution_count": 22,
     "metadata": {},
     "output_type": "execute_result"
    }
   ],
   "source": [
    "# summary of the number of parameters and output shapes at each\n",
    "# level in the model\n",
    "\n",
    "data_shape = (2, 512, 294)\n",
    "summary(umx, data_shape)"
   ]
  },
  {
   "cell_type": "code",
   "execution_count": null,
   "metadata": {
    "id": "2O5xFuI1i9lc"
   },
   "outputs": [],
   "source": [
    "# X left channel  - original data\n",
    "x, y = mus_test[0]\n",
    "librosa.display.specshow(librosa.amplitude_to_db(np.abs(x[0]), ref=np.max),\n",
    "                         y_axis='log', x_axis='time')"
   ]
  },
  {
   "cell_type": "code",
   "execution_count": null,
   "metadata": {
    "id": "hkAqjpdyjAz9"
   },
   "outputs": [],
   "source": [
    "# Y left channel - original output\n",
    "librosa.display.specshow(librosa.amplitude_to_db(np.abs(y[0]), ref=np.max),\n",
    "                         y_axis='log', x_axis='time')"
   ]
  },
  {
   "cell_type": "code",
   "execution_count": null,
   "metadata": {
    "id": "009W19WOjC77"
   },
   "outputs": [],
   "source": [
    "# Y left channel - predicted output\n",
    "\n",
    "x = mus_test[0][0].unsqueeze(0).to(DEVICE)\n",
    "y_pred = umx(x.to(DEVICE)).squeeze().detach().cpu()\n",
    "np_spec_pred = torch.Tensor.numpy(y_pred)\n",
    "librosa.display.specshow(librosa.amplitude_to_db(np.abs(np_spec_pred[0]), ref=np.max),\n",
    "                         y_axis='log', x_axis='time')"
   ]
  },
  {
   "cell_type": "code",
   "execution_count": null,
   "metadata": {
    "id": "SVEBiJL3jfkT"
   },
   "outputs": [],
   "source": [
    "# till here all we did was to train Open Unmix model\n",
    "# so that it can succesfully separate vocals from songs\n",
    "\n",
    "# Now we shall use this pretrained model to separate vocals present\n",
    "# in another dataset, GTZAN specifically."
   ]
  },
  {
   "cell_type": "code",
   "execution_count": null,
   "metadata": {
    "id": "eKtNQFFVkJ_h"
   },
   "outputs": [],
   "source": [
    "# code to download the GTZAN dataset\n",
    "\n",
    "fname = \"music.zip\"\n",
    "url = \"https://osf.io/drjhb/download\"\n",
    "\n",
    "if not os.path.isfile(fname):\n",
    "  try:\n",
    "    r = requests.get(url)\n",
    "  except requests.ConnectionError:\n",
    "    print(\"!!! Failed to download data !!!\")\n",
    "  else:\n",
    "    if r.status_code != requests.codes.ok:\n",
    "      print(\"!!! Failed to download data !!!\")\n",
    "    else:\n",
    "      with open(fname, \"wb\") as fid:\n",
    "        fid.write(r.content)\n",
    "\n",
    "# Extract all the contents of zip file in different directory\n",
    "with ZipFile(fname, 'r') as zipObj:\n",
    "  zipObj.extractall()"
   ]
  },
  {
   "cell_type": "code",
   "execution_count": null,
   "metadata": {
    "id": "M27wtEqmlRRp"
   },
   "outputs": [],
   "source": [
    "# This code snippet is creating a mapping between audio files\n",
    "# and their corresponding genre labels (we are creating X, y).\n",
    "'''\n",
    "`.*.` captures any char b/w `'Data/genres_original/'` and the next `'/'`.\n",
    "The parentheses `(.*.)` group this part of the match.\n",
    "If successful, it extracts the group containing the genre name.\n",
    "'''\n",
    "\n",
    "files_dict = dict()\n",
    "files = glob.glob('Data/genres_original' + '/**/*.wav', recursive=True)\n",
    "for file in files:\n",
    "  regexp = re.match('Data/genres_original/(.*.)/.*.\\.wav', file)\n",
    "  files_dict[file] = regexp.group(1)  # dataset wrapper for GTZAN"
   ]
  },
  {
   "cell_type": "code",
   "execution_count": 12,
   "metadata": {
    "id": "s24ib8IWmaFT"
   },
   "outputs": [],
   "source": [
    "# ok, now what we do is apply unmix model on all the GTZAN audio files\n",
    "# to separate the vocals from the songs, and then we try to perform a\n",
    "# classification on these new vocals.\n",
    "\n",
    "class GTZANDataset(torch.utils.data.Dataset):\n",
    "    def __init__(\n",
    "            self,\n",
    "            path,\n",
    "            seq_duration=None,\n",
    "            n_fft=2048,\n",
    "            sr=44100,\n",
    "            preprocessor=None\n",
    "    ):\n",
    "      \"\"\"GTZAN Dataset wrapper.\n",
    "      args:\n",
    "      path: file directory where samples are labeled by genre\n",
    "      seq_duration: duration in seconds: float\n",
    "      \"\"\"\n",
    "      super().__init__()\n",
    "      self.seq_duration = seq_duration\n",
    "      self.files = self._retrieve_paths(path)\n",
    "      self.sr=sr\n",
    "      self.spec=SpecTransform(n_fft=n_fft)\n",
    "      self.resample=Resample(new_freq=self.sr)\n",
    "      self.preprocessor = preprocessor\n",
    "\n",
    "    def _retrieve_paths(self, path):\n",
    "      \"\"\"\n",
    "      Retrieves all matching files in path with GTZAN specification.\n",
    "      It returns a dict {path: label}\n",
    "      \"\"\"\n",
    "      assert os.stat(path) is not False\n",
    "\n",
    "      files_list = []\n",
    "      i = 0\n",
    "      for file in glob.glob(f'{path}/**/*.wav', recursive=True):\n",
    "        regexp = re.match(f'{path}/(.*.)/.*.\\.wav', file)\n",
    "        files_list.append({'index': i, 'path' : file, 'genre' : regexp.group(1) })\n",
    "        i += 1\n",
    "\n",
    "      genres = set()\n",
    "      for file in files_list:\n",
    "        genres.add(file['genre'])\n",
    "\n",
    "      self.genres = {genre : i for i, genre in enumerate(genres)}\n",
    "\n",
    "      return files_list\n",
    "\n",
    "    def __getitem__(self, index):\n",
    "      item = self.files[index]\n",
    "      track, sr = torchaudio.load(item['path'])\n",
    "      track_duration = track.shape[1] / sr\n",
    "\n",
    "      if self.seq_duration is None:\n",
    "        self.seq_duration = track_duration\n",
    "\n",
    "      chunk_start = max(0, random.uniform(0, track_duration - self.seq_duration)) # Prevents rounding errors\n",
    "      track = track[0][int(chunk_start * sr) : int((chunk_start + self.seq_duration) * sr)]\n",
    "      x = torch.cat((track, track), dim=0)\n",
    "\n",
    "      y = item['genre']\n",
    "      self.resample.orig_freq = sr\n",
    "      resampled_x = self.resample(torch.Tensor(x))\n",
    "      spec_x = self.spec(resampled_x)\n",
    "\n",
    "      if self.preprocessor is not None:\n",
    "        spec_x = self.preprocessor(spec_x.to(DEVICE)).cpu()\n",
    "\n",
    "      return self._transform_resnet(spec_x), self.genres[y]\n",
    "\n",
    "\n",
    "    def _transform_resnet(self, x):\n",
    "      \"\"\"\n",
    "    Takes stereo spectogram and adds a third averaged channel to be compatible\n",
    "    for resnet. Since resnet expects 3-channel images.\n",
    "    \"\"\"\n",
    "      out = torch.cat((x, x[0].unsqueeze(0)), dim=0)\n",
    "      res_img = F.interpolate(out.unsqueeze(0), size=(224, 224), mode='bilinear', align_corners=False).squeeze(0)\n",
    "      return res_img\n",
    "\n",
    "    def __len__(self):\n",
    "      return len(self.files)"
   ]
  },
  {
   "cell_type": "code",
   "execution_count": 13,
   "metadata": {
    "id": "ZR9TnsvboJjO"
   },
   "outputs": [],
   "source": [
    "# processing with Open Unmix\n",
    "\n",
    "def preprocess_umx(x):\n",
    "  \"\"\"\n",
    "  Takes mono channel spectogram, concatenates it with itself and unsqueezes a\n",
    "  dimension at the start. Then applies a umx preprocessing.\n",
    "  \"\"\"\n",
    "  umx.eval()\n",
    "  input = torch.cat((x.unsqueeze(0), x.unsqueeze(0)), dim=0).unsqueeze(0)\n",
    "  out = umx(input)\n",
    "\n",
    "  return out.squeeze()"
   ]
  },
  {
   "cell_type": "code",
   "execution_count": 14,
   "metadata": {
    "id": "MR85pLGDoSXu"
   },
   "outputs": [
    {
     "name": "stdout",
     "output_type": "stream",
     "text": [
      "Size of Dataset 999\n"
     ]
    },
    {
     "name": "stderr",
     "output_type": "stream",
     "text": [
      "/home/zeus/miniconda3/envs/cloudspace/lib/python3.10/site-packages/torchaudio/functional/functional.py:584: UserWarning: At least one mel filterbank has all zero values. The value for `n_mels` (512) may be set too high. Or, the value for `n_freqs` (1025) may be set too low.\n",
      "  warnings.warn(\n"
     ]
    }
   ],
   "source": [
    "# create the dataset which now only contains vocals\n",
    "\n",
    "gtzan = GTZANDataset('Data/genres_original',\n",
    "                     seq_duration=7,\n",
    "                     preprocessor=preprocess_umx)\n",
    "\n",
    "print(f'Size of Dataset {len(gtzan)}')"
   ]
  },
  {
   "cell_type": "code",
   "execution_count": null,
   "metadata": {
    "id": "4ydRd65Co0Ie"
   },
   "outputs": [],
   "source": [
    "data = gtzan[0]\n",
    "print(gtzan.genres)\n",
    "print(data[0].shape)"
   ]
  },
  {
   "cell_type": "code",
   "execution_count": null,
   "metadata": {
    "id": "oBh8IUM_oh8m"
   },
   "outputs": [],
   "source": [
    "# vocal sample from preprocessed audio in corresponding scaling\n",
    "# let's see how the mel spectrogram looks\n",
    "\n",
    "librosa.display.specshow(\n",
    "    librosa.amplitude_to_db(np.abs(data[0][0].detach().numpy()), ref=np.max),\n",
    "    y_axis='log', x_axis='time'\n",
    "    )"
   ]
  },
  {
   "cell_type": "markdown",
   "metadata": {},
   "source": [
    "#### The entire code is the same as Eder's approach, I am trying resnet 18, with `pretrainedweights=True` and `weights=False` to see which one works.\n",
    "\n",
    "- resnet 18, finetuning using pre-trained weights."
   ]
  },
  {
   "cell_type": "code",
   "execution_count": 15,
   "metadata": {
    "id": "vQEc6kv3pHld",
    "scrolled": true
   },
   "outputs": [
    {
     "data": {
      "text/plain": [
       "ResNet(\n",
       "  (conv1): Conv2d(3, 64, kernel_size=(7, 7), stride=(2, 2), padding=(3, 3), bias=False)\n",
       "  (bn1): BatchNorm2d(64, eps=1e-05, momentum=0.1, affine=True, track_running_stats=True)\n",
       "  (relu): ReLU(inplace=True)\n",
       "  (maxpool): MaxPool2d(kernel_size=3, stride=2, padding=1, dilation=1, ceil_mode=False)\n",
       "  (layer1): Sequential(\n",
       "    (0): BasicBlock(\n",
       "      (conv1): Conv2d(64, 64, kernel_size=(3, 3), stride=(1, 1), padding=(1, 1), bias=False)\n",
       "      (bn1): BatchNorm2d(64, eps=1e-05, momentum=0.1, affine=True, track_running_stats=True)\n",
       "      (relu): ReLU(inplace=True)\n",
       "      (conv2): Conv2d(64, 64, kernel_size=(3, 3), stride=(1, 1), padding=(1, 1), bias=False)\n",
       "      (bn2): BatchNorm2d(64, eps=1e-05, momentum=0.1, affine=True, track_running_stats=True)\n",
       "    )\n",
       "    (1): BasicBlock(\n",
       "      (conv1): Conv2d(64, 64, kernel_size=(3, 3), stride=(1, 1), padding=(1, 1), bias=False)\n",
       "      (bn1): BatchNorm2d(64, eps=1e-05, momentum=0.1, affine=True, track_running_stats=True)\n",
       "      (relu): ReLU(inplace=True)\n",
       "      (conv2): Conv2d(64, 64, kernel_size=(3, 3), stride=(1, 1), padding=(1, 1), bias=False)\n",
       "      (bn2): BatchNorm2d(64, eps=1e-05, momentum=0.1, affine=True, track_running_stats=True)\n",
       "    )\n",
       "  )\n",
       "  (layer2): Sequential(\n",
       "    (0): BasicBlock(\n",
       "      (conv1): Conv2d(64, 128, kernel_size=(3, 3), stride=(2, 2), padding=(1, 1), bias=False)\n",
       "      (bn1): BatchNorm2d(128, eps=1e-05, momentum=0.1, affine=True, track_running_stats=True)\n",
       "      (relu): ReLU(inplace=True)\n",
       "      (conv2): Conv2d(128, 128, kernel_size=(3, 3), stride=(1, 1), padding=(1, 1), bias=False)\n",
       "      (bn2): BatchNorm2d(128, eps=1e-05, momentum=0.1, affine=True, track_running_stats=True)\n",
       "      (downsample): Sequential(\n",
       "        (0): Conv2d(64, 128, kernel_size=(1, 1), stride=(2, 2), bias=False)\n",
       "        (1): BatchNorm2d(128, eps=1e-05, momentum=0.1, affine=True, track_running_stats=True)\n",
       "      )\n",
       "    )\n",
       "    (1): BasicBlock(\n",
       "      (conv1): Conv2d(128, 128, kernel_size=(3, 3), stride=(1, 1), padding=(1, 1), bias=False)\n",
       "      (bn1): BatchNorm2d(128, eps=1e-05, momentum=0.1, affine=True, track_running_stats=True)\n",
       "      (relu): ReLU(inplace=True)\n",
       "      (conv2): Conv2d(128, 128, kernel_size=(3, 3), stride=(1, 1), padding=(1, 1), bias=False)\n",
       "      (bn2): BatchNorm2d(128, eps=1e-05, momentum=0.1, affine=True, track_running_stats=True)\n",
       "    )\n",
       "  )\n",
       "  (layer3): Sequential(\n",
       "    (0): BasicBlock(\n",
       "      (conv1): Conv2d(128, 256, kernel_size=(3, 3), stride=(2, 2), padding=(1, 1), bias=False)\n",
       "      (bn1): BatchNorm2d(256, eps=1e-05, momentum=0.1, affine=True, track_running_stats=True)\n",
       "      (relu): ReLU(inplace=True)\n",
       "      (conv2): Conv2d(256, 256, kernel_size=(3, 3), stride=(1, 1), padding=(1, 1), bias=False)\n",
       "      (bn2): BatchNorm2d(256, eps=1e-05, momentum=0.1, affine=True, track_running_stats=True)\n",
       "      (downsample): Sequential(\n",
       "        (0): Conv2d(128, 256, kernel_size=(1, 1), stride=(2, 2), bias=False)\n",
       "        (1): BatchNorm2d(256, eps=1e-05, momentum=0.1, affine=True, track_running_stats=True)\n",
       "      )\n",
       "    )\n",
       "    (1): BasicBlock(\n",
       "      (conv1): Conv2d(256, 256, kernel_size=(3, 3), stride=(1, 1), padding=(1, 1), bias=False)\n",
       "      (bn1): BatchNorm2d(256, eps=1e-05, momentum=0.1, affine=True, track_running_stats=True)\n",
       "      (relu): ReLU(inplace=True)\n",
       "      (conv2): Conv2d(256, 256, kernel_size=(3, 3), stride=(1, 1), padding=(1, 1), bias=False)\n",
       "      (bn2): BatchNorm2d(256, eps=1e-05, momentum=0.1, affine=True, track_running_stats=True)\n",
       "    )\n",
       "  )\n",
       "  (layer4): Sequential(\n",
       "    (0): BasicBlock(\n",
       "      (conv1): Conv2d(256, 512, kernel_size=(3, 3), stride=(2, 2), padding=(1, 1), bias=False)\n",
       "      (bn1): BatchNorm2d(512, eps=1e-05, momentum=0.1, affine=True, track_running_stats=True)\n",
       "      (relu): ReLU(inplace=True)\n",
       "      (conv2): Conv2d(512, 512, kernel_size=(3, 3), stride=(1, 1), padding=(1, 1), bias=False)\n",
       "      (bn2): BatchNorm2d(512, eps=1e-05, momentum=0.1, affine=True, track_running_stats=True)\n",
       "      (downsample): Sequential(\n",
       "        (0): Conv2d(256, 512, kernel_size=(1, 1), stride=(2, 2), bias=False)\n",
       "        (1): BatchNorm2d(512, eps=1e-05, momentum=0.1, affine=True, track_running_stats=True)\n",
       "      )\n",
       "    )\n",
       "    (1): BasicBlock(\n",
       "      (conv1): Conv2d(512, 512, kernel_size=(3, 3), stride=(1, 1), padding=(1, 1), bias=False)\n",
       "      (bn1): BatchNorm2d(512, eps=1e-05, momentum=0.1, affine=True, track_running_stats=True)\n",
       "      (relu): ReLU(inplace=True)\n",
       "      (conv2): Conv2d(512, 512, kernel_size=(3, 3), stride=(1, 1), padding=(1, 1), bias=False)\n",
       "      (bn2): BatchNorm2d(512, eps=1e-05, momentum=0.1, affine=True, track_running_stats=True)\n",
       "    )\n",
       "  )\n",
       "  (avgpool): AdaptiveAvgPool2d(output_size=(1, 1))\n",
       "  (fc): Linear(in_features=512, out_features=1000, bias=True)\n",
       ")"
      ]
     },
     "execution_count": 15,
     "metadata": {},
     "output_type": "execute_result"
    }
   ],
   "source": [
    "# now using a pre trained resnet architecture to perform this genre classification\n",
    "# just training the final layer\n",
    "\n",
    "resnet_small = torchvision.models.resnet18(weights='ResNet18_Weights.DEFAULT')\n",
    "for param in resnet_small.parameters():\n",
    "  param.requires_grad = False\n",
    "    \n",
    "resnet_small.to(DEVICE)"
   ]
  },
  {
   "cell_type": "code",
   "execution_count": 16,
   "metadata": {
    "id": "ZiJ-oCmPpps-"
   },
   "outputs": [],
   "source": [
    "# let's add another layer at the end of resnet\n",
    "# since the number of genres we have are 10\n",
    "\n",
    "num_genres = 10\n",
    "num_ftrs = resnet_small.fc.in_features\n",
    "resnet_small.fc = nn.Linear(num_ftrs, num_genres)"
   ]
  },
  {
   "cell_type": "code",
   "execution_count": 24,
   "metadata": {
    "id": "nom2B3BhqHfd"
   },
   "outputs": [],
   "source": [
    "# training loop function for the resnet classifier\n",
    "\n",
    "def resnet_train(model, device, train_loader, validation_loader, epochs):\n",
    "    model.to(device)\n",
    "    optimizer = torch.optim.Adam(model.parameters(), lr=1e-4)\n",
    "    loss_fn = nn.CrossEntropyLoss()\n",
    "\n",
    "    train_loss, validation_loss = [], []\n",
    "    train_acc, validation_acc = [], []\n",
    "\n",
    "    for epoch in tqdm(range(epochs)):\n",
    "        # train loop\n",
    "        running_loss = 0.\n",
    "        correct, total = 0, 0\n",
    "\n",
    "        for batch in train_loader:\n",
    "            images, labels = batch\n",
    "            images = images.to(device)\n",
    "            labels = labels.to(device)\n",
    "            \n",
    "            optimizer.zero_grad()\n",
    "            output = model(images)\n",
    "            loss = loss_fn(output, labels)\n",
    "            loss.backward()\n",
    "            optimizer.step()\n",
    "            running_loss += loss.item()\n",
    "\n",
    "            _, predicted = torch.max(output, 1)\n",
    "            total += labels.size(0)\n",
    "            correct += (predicted == labels).sum().item()\n",
    "\n",
    "        train_loss.append(running_loss / len(train_loader))\n",
    "        train_acc.append(correct / total)\n",
    "        running_loss = 0.\n",
    "        correct, total = 0, 0\n",
    "\n",
    "        with torch.no_grad():\n",
    "            for batch in validation_loader:\n",
    "                images, labels = batch\n",
    "                images = images.to(device)\n",
    "                labels = labels.to(device)\n",
    "                output = model(images)\n",
    "                loss = loss_fn(output, labels)\n",
    "                running_loss += loss.item()\n",
    "                _, predicted = torch.max(output, 1)\n",
    "                total += labels.size(0)\n",
    "                correct += (predicted == labels).sum().item()\n",
    "\n",
    "        validation_loss.append(running_loss / len(validation_loader))\n",
    "        validation_acc.append(correct / total)\n",
    "\n",
    "    return train_loss, train_acc, validation_loss, validation_acc"
   ]
  },
  {
   "cell_type": "code",
   "execution_count": 25,
   "metadata": {
    "id": "GxJ8nIJBqODO"
   },
   "outputs": [],
   "source": [
    "# checkpoint & adjust_learning_rate\n",
    "def checkpoint(model, acc, epoch, outModelName):\n",
    "  # Save checkpoint.\n",
    "  print('Saving..')\n",
    "  state = {\n",
    "      'state_dict': model.state_dict(),\n",
    "      'acc': acc,\n",
    "      'epoch': epoch,\n",
    "      'rng_state': torch.get_rng_state()\n",
    "  }\n",
    "  if not os.path.isdir(f'{SAVE_PATH}/checkpoint'):\n",
    "      os.mkdir(f'{SAVE_PATH}/checkpoint')\n",
    "  torch.save(state, f'{SAVE_PATH}/checkpoint/{outModelName}.t7')"
   ]
  },
  {
   "cell_type": "code",
   "execution_count": 26,
   "metadata": {
    "id": "AIUwGA5QqRaN"
   },
   "outputs": [],
   "source": [
    "# create the data loader to load the data for training\n",
    "\n",
    "gztan_train = DataLoader(gtzan, batch_size=8, shuffle=True,)\n",
    "train_set, test_set = torch.utils.data.random_split(gtzan, [799, 200])\n",
    "train_loader = DataLoader(train_set, batch_size=8, shuffle=True)\n",
    "test_loader = DataLoader(test_set, batch_size=8, shuffle=True)"
   ]
  },
  {
   "cell_type": "code",
   "execution_count": 28,
   "metadata": {
    "id": "vjPNSqDBqWs1"
   },
   "outputs": [
    {
     "name": "stderr",
     "output_type": "stream",
     "text": [
      "100%|██████████| 10/10 [2:06:38<00:00, 759.83s/it] \n"
     ]
    },
    {
     "ename": "RuntimeError",
     "evalue": "Parent directory content/checkpoint does not exist.",
     "output_type": "error",
     "traceback": [
      "\u001b[0;31m---------------------------------------------------------------------------\u001b[0m",
      "\u001b[0;31mRuntimeError\u001b[0m                              Traceback (most recent call last)",
      "Cell \u001b[0;32mIn[28], line 14\u001b[0m\n\u001b[1;32m      8\u001b[0m \u001b[38;5;66;03m# resnet_small.fc2.train()\u001b[39;00m\n\u001b[1;32m      9\u001b[0m resnet_losses \u001b[38;5;241m=\u001b[39m resnet_train(\n\u001b[1;32m     10\u001b[0m   resnet_small, device\u001b[38;5;241m=\u001b[39mDEVICE,\n\u001b[1;32m     11\u001b[0m   train_loader\u001b[38;5;241m=\u001b[39mtrain_loader,\n\u001b[1;32m     12\u001b[0m   validation_loader\u001b[38;5;241m=\u001b[39mtest_loader,\n\u001b[1;32m     13\u001b[0m   epochs\u001b[38;5;241m=\u001b[39m\u001b[38;5;241m10\u001b[39m)\n\u001b[0;32m---> 14\u001b[0m \u001b[43mtorch\u001b[49m\u001b[38;5;241;43m.\u001b[39;49m\u001b[43msave\u001b[49m\u001b[43m(\u001b[49m\u001b[43mresnet_small\u001b[49m\u001b[43m,\u001b[49m\u001b[43m \u001b[49m\u001b[38;5;124;43mf\u001b[39;49m\u001b[38;5;124;43m'\u001b[39;49m\u001b[38;5;132;43;01m{\u001b[39;49;00m\u001b[43mSAVE_PATH\u001b[49m\u001b[38;5;132;43;01m}\u001b[39;49;00m\u001b[38;5;124;43m/checkpoint/resnet_small.t7\u001b[39;49m\u001b[38;5;124;43m'\u001b[39;49m\u001b[43m)\u001b[49m\n",
      "File \u001b[0;32m/home/zeus/miniconda3/envs/cloudspace/lib/python3.10/site-packages/torch/serialization.py:651\u001b[0m, in \u001b[0;36msave\u001b[0;34m(obj, f, pickle_module, pickle_protocol, _use_new_zipfile_serialization, _disable_byteorder_record)\u001b[0m\n\u001b[1;32m    648\u001b[0m _check_save_filelike(f)\n\u001b[1;32m    650\u001b[0m \u001b[38;5;28;01mif\u001b[39;00m _use_new_zipfile_serialization:\n\u001b[0;32m--> 651\u001b[0m     \u001b[38;5;28;01mwith\u001b[39;00m \u001b[43m_open_zipfile_writer\u001b[49m\u001b[43m(\u001b[49m\u001b[43mf\u001b[49m\u001b[43m)\u001b[49m \u001b[38;5;28;01mas\u001b[39;00m opened_zipfile:\n\u001b[1;32m    652\u001b[0m         _save(obj, opened_zipfile, pickle_module, pickle_protocol, _disable_byteorder_record)\n\u001b[1;32m    653\u001b[0m         \u001b[38;5;28;01mreturn\u001b[39;00m\n",
      "File \u001b[0;32m/home/zeus/miniconda3/envs/cloudspace/lib/python3.10/site-packages/torch/serialization.py:525\u001b[0m, in \u001b[0;36m_open_zipfile_writer\u001b[0;34m(name_or_buffer)\u001b[0m\n\u001b[1;32m    523\u001b[0m \u001b[38;5;28;01melse\u001b[39;00m:\n\u001b[1;32m    524\u001b[0m     container \u001b[38;5;241m=\u001b[39m _open_zipfile_writer_buffer\n\u001b[0;32m--> 525\u001b[0m \u001b[38;5;28;01mreturn\u001b[39;00m \u001b[43mcontainer\u001b[49m\u001b[43m(\u001b[49m\u001b[43mname_or_buffer\u001b[49m\u001b[43m)\u001b[49m\n",
      "File \u001b[0;32m/home/zeus/miniconda3/envs/cloudspace/lib/python3.10/site-packages/torch/serialization.py:496\u001b[0m, in \u001b[0;36m_open_zipfile_writer_file.__init__\u001b[0;34m(self, name)\u001b[0m\n\u001b[1;32m    494\u001b[0m     \u001b[38;5;28msuper\u001b[39m()\u001b[38;5;241m.\u001b[39m\u001b[38;5;21m__init__\u001b[39m(torch\u001b[38;5;241m.\u001b[39m_C\u001b[38;5;241m.\u001b[39mPyTorchFileWriter(\u001b[38;5;28mself\u001b[39m\u001b[38;5;241m.\u001b[39mfile_stream))\n\u001b[1;32m    495\u001b[0m \u001b[38;5;28;01melse\u001b[39;00m:\n\u001b[0;32m--> 496\u001b[0m     \u001b[38;5;28msuper\u001b[39m()\u001b[38;5;241m.\u001b[39m\u001b[38;5;21m__init__\u001b[39m(\u001b[43mtorch\u001b[49m\u001b[38;5;241;43m.\u001b[39;49m\u001b[43m_C\u001b[49m\u001b[38;5;241;43m.\u001b[39;49m\u001b[43mPyTorchFileWriter\u001b[49m\u001b[43m(\u001b[49m\u001b[38;5;28;43mself\u001b[39;49m\u001b[38;5;241;43m.\u001b[39;49m\u001b[43mname\u001b[49m\u001b[43m)\u001b[49m)\n",
      "\u001b[0;31mRuntimeError\u001b[0m: Parent directory content/checkpoint does not exist."
     ]
    }
   ],
   "source": [
    "# training\n",
    "\n",
    "# empty the cache\n",
    "torch.cuda.empty_cache()\n",
    "\n",
    "with torch.backends.cudnn.flags(enabled=False):\n",
    "    data_shape = [3, 224, 224]\n",
    "    # resnet_small.fc2.train()\n",
    "    resnet_losses = resnet_train(\n",
    "      resnet_small, device=DEVICE,\n",
    "      train_loader=train_loader,\n",
    "      validation_loader=test_loader,\n",
    "      epochs=10)\n",
    "    torch.save(resnet_small, f'{SAVE_PATH}/checkpoint/resnet_small.t7')"
   ]
  },
  {
   "cell_type": "code",
   "execution_count": 29,
   "metadata": {},
   "outputs": [
    {
     "name": "stdout",
     "output_type": "stream",
     "text": [
      "([1.8912536001205444, 1.8666752541065217, 1.8702108311653136, 1.8722581481933593, 1.851194853782654, 1.8437691640853882, 1.8409796416759492, 1.8321735227108003, 1.8129220747947692, 1.8276050996780395], [0.3454317897371715, 0.35168961201501875, 0.344180225281602, 0.37546933667083854, 0.3454317897371715, 0.360450563204005, 0.360450563204005, 0.3642052565707134, 0.37296620775969963, 0.36545682102628285], [1.8844707250595092, 1.9442346382141114, 1.9011940383911132, 1.9410908937454223, 1.8726764345169067, 1.9577872085571288, 1.8948755359649658, 1.8918895387649537, 1.8825101995468139, 1.9634679079055786], [0.385, 0.315, 0.38, 0.325, 0.35, 0.33, 0.395, 0.37, 0.36, 0.33])\n"
     ]
    }
   ],
   "source": [
    "print(resnet_losses)\n",
    "torch.save(resnet_small, f'{SAVE_PATH}/resnet_small.t7')"
   ]
  },
  {
   "cell_type": "code",
   "execution_count": 32,
   "metadata": {},
   "outputs": [
    {
     "data": {
      "image/png": "[encoded data removed]",
      "text/plain": [
       "<Figure size 640x480 with 1 Axes>"
      ]
     },
     "metadata": {},
     "output_type": "display_data"
    }
   ],
   "source": [
    "# let's plot these values\n",
    "train_loss, train_acc, validation_loss, validation_acc = resnet_losses\n",
    "# Example vectors (replace with your actual data)\n",
    "train_loss = np.array(train_loss)\n",
    "train_acc = np.array(train_acc)\n",
    "validation_loss = np.array(validation_loss)\n",
    "validation_acc = np.array(validation_acc)\n",
    "\n",
    "# Create an array for the x-axis (indices)\n",
    "x = np.arange(10)\n",
    "\n",
    "# Plot the vector\n",
    "plt.plot(x, train_loss, label='train_loss')\n",
    "plt.plot(x, train_acc, label='train_acc')\n",
    "plt.plot(x, validation_loss, label='validation_loss')\n",
    "plt.plot(x, validation_acc, label='validation_acc')\n",
    "\n",
    "# Add labels and title\n",
    "plt.xlabel('Index')\n",
    "plt.ylabel('Values')\n",
    "plt.title('Vector Plot')\n",
    "\n",
    "# Add legend\n",
    "plt.legend()\n",
    "\n",
    "# Apply the \"solarize\" style\n",
    "plt.style.use('Solarize_Light2')\n",
    "\n",
    "# Show the plot\n",
    "plt.show()\n"
   ]
  },
  {
   "cell_type": "markdown",
   "metadata": {},
   "source": [
    "- training resnet from scratch\n",
    "\n",
    "[x] Not doing."
   ]
  },
  {
   "cell_type": "code",
   "execution_count": null,
   "metadata": {},
   "outputs": [],
   "source": [
    "# using just the architecture and training it from scratch\n",
    "\n",
    "resnet_small_v1 = torchvision.models.resnet18(weights=None)\n",
    "resnet_small_v1.to(DEVICE)\n",
    "summary(resnet_small, (3, 224, 224))"
   ]
  },
  {
   "cell_type": "code",
   "execution_count": null,
   "metadata": {},
   "outputs": [],
   "source": [
    "resnet_small_v1.fc = nn.Linear(num_ftrs, num_genres)"
   ]
  },
  {
   "cell_type": "code",
   "execution_count": null,
   "metadata": {},
   "outputs": [],
   "source": [
    "# training loop for training from scratch\n",
    "\n",
    "with torch.backends.cudnn.flags(enabled=False):\n",
    "  data_shape = [3, 224, 224]\n",
    "  for _ in range(10):\n",
    "    # resnet_small.fc2.train()\n",
    "    resnet_losses = resnet_train(\n",
    "      resnet_small_v1, device=DEVICE,\n",
    "      train_loader=train_loader,\n",
    "      validation_loader=test_loader,\n",
    "      epochs=10)\n",
    "    torch.save(resnet_small_v1, f'{SAVE_PATH}/checkpoint/resnet_small_v1.t7')"
   ]
  },
  {
   "cell_type": "code",
   "execution_count": null,
   "metadata": {},
   "outputs": [],
   "source": [
    "# Now after training this on the outputs of open unmix, I don't remember what to do next\n",
    "# so after comparing the results, seeing which architecture might be better, we might use that\n",
    "# architecture for the next stage of fine tuning"
   ]
  },
  {
   "cell_type": "markdown",
   "metadata": {},
   "source": [
    "### What did the resnet learn if it did learn anything?\n",
    "\n",
    "Let's find out what the code learn's"
   ]
  },
  {
   "cell_type": "code",
   "execution_count": 30,
   "metadata": {},
   "outputs": [],
   "source": [
    "def layer_visualization(model):\n",
    "  with torch.no_grad():\n",
    "    params = list(model.parameters())\n",
    "    fig, axs = plt.subplots(8, 8, figsize=(8, 8))\n",
    "    filters = []\n",
    "    for filter_index in range(params[0].shape[0]):\n",
    "      row_index = filter_index // 8\n",
    "      col_index = filter_index % 8\n",
    "\n",
    "      filter = params[0][filter_index,:,:,:]\n",
    "      filter_image = filter.permute(1, 2, 0).cpu()\n",
    "      scale = np.abs(filter_image).max()\n",
    "      scaled_image = filter_image / (2 * scale) + 0.5\n",
    "      filters.append(scaled_image.cpu())\n",
    "      axs[row_index, col_index].imshow(scaled_image.cpu())\n",
    "      axs[row_index, col_index].axis('off')\n",
    "    plt.show()"
   ]
  },
  {
   "cell_type": "code",
   "execution_count": 31,
   "metadata": {},
   "outputs": [
    {
     "data": {
      "image/png": "[encoded data removed]",
      "text/plain": [
       "<Figure size 800x800 with 64 Axes>"
      ]
     },
     "metadata": {},
     "output_type": "display_data"
    }
   ],
   "source": [
    "layer_visualization(resnet_small)"
   ]
  },
  {
   "cell_type": "code",
   "execution_count": null,
   "metadata": {},
   "outputs": [],
   "source": [
    "# layer_visualization(resnet_small_v1)"
   ]
  },
  {
   "cell_type": "markdown",
   "metadata": {},
   "source": [
    "### Next step in finetuning."
   ]
  }
 ],
 "metadata": {
  "colab": {
   "name": "Welcome To Colab",
   "provenance": []
  },
  "kernelspec": {
   "display_name": "Python 3",
   "language": "python",
   "name": "python3"
  },
  "language_info": {
   "codemirror_mode": {
    "name": "ipython",
    "version": 3
   },
   "file_extension": ".py",
   "mimetype": "text/x-python",
   "name": "python",
   "nbconvert_exporter": "python",
   "pygments_lexer": "ipython3",
   "version": "3.10.14"
  }
 },
 "nbformat": 4,
 "nbformat_minor": 4
}
